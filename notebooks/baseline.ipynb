{
 "cells": [
  {
   "cell_type": "code",
   "execution_count": 1,
   "metadata": {},
   "outputs": [
    {
     "name": "stderr",
     "output_type": "stream",
     "text": [
      "2023-04-24 12:03:28.401660: I tensorflow/tsl/cuda/cudart_stub.cc:28] Could not find cuda drivers on your machine, GPU will not be used.\n",
      "2023-04-24 12:03:28.597854: I tensorflow/tsl/cuda/cudart_stub.cc:28] Could not find cuda drivers on your machine, GPU will not be used.\n",
      "2023-04-24 12:03:28.600034: I tensorflow/core/platform/cpu_feature_guard.cc:182] This TensorFlow binary is optimized to use available CPU instructions in performance-critical operations.\n",
      "To enable the following instructions: AVX2 FMA, in other operations, rebuild TensorFlow with the appropriate compiler flags.\n",
      "2023-04-24 12:03:30.128552: W tensorflow/compiler/tf2tensorrt/utils/py_utils.cc:38] TF-TRT Warning: Could not find TensorRT\n"
     ]
    }
   ],
   "source": [
    "import pandas as pd\n",
    "import numpy as np\n",
    "import librosa\n",
    "import librosa.display\n",
    "import matplotlib.pyplot as plt\n",
    "import matplotlib\n",
    "\n",
    "\n",
    "# Notification\n",
    "import time\n",
    "\n",
    "# File IO\n",
    "import h5py\n",
    "import os\n",
    "\n",
    "# Deep learning\n",
    "# Keras-related imports\n",
    "from keras.models import Sequential\n",
    "from keras.layers import Dense, Dropout, Activation, Flatten, LSTM\n",
    "from keras.layers import Convolution1D, MaxPooling2D, Convolution2D\n",
    "from keras import backend as K\n",
    "# K.set_image_dim_ordering('th')\n",
    "from keras.callbacks import ModelCheckpoint\n",
    "from keras.callbacks import RemoteMonitor\n",
    "from keras.callbacks import EarlyStopping\n",
    "from keras.models import load_model\n",
    "from keras.layers import Conv2D, MaxPooling2D\n",
    "\n",
    "\n",
    "# Result processing\n",
    "from sklearn.model_selection import train_test_split\n",
    "from sklearn.metrics import confusion_matrix\n",
    "from sklearn.utils.multiclass import unique_labels\n",
    "from sklearn.metrics import f1_score\n"
   ]
  },
  {
   "cell_type": "markdown",
   "metadata": {},
   "source": [
    "# Section 0: Perform feature transform, save data\n",
    "\n",
    "This section is used to create the $(\\mathbf{X},y)$ training set with feature choice parameterised by either `{'log-mel', 'mfcc'}`. Librosa is used to extract the features, and has further support for any features one may wish to choose.\n",
    "\n",
    "Once this section has been run once, the user is advised to skip to **Section 1** which deals with performing a baseline classification using a Convolutional Neural Network."
   ]
  },
  {
   "cell_type": "code",
   "execution_count": 2,
   "metadata": {
    "collapsed": true
   },
   "outputs": [],
   "source": [
    "# Parameterise feature transform here. The default is to use log-mel features, but the user may implement any choice\n",
    "# or use the raw time-series as preferred \n",
    "\n",
    "feature_type = 'log-mel'  # Select from {'log-mel', 'mfcc'}\n",
    "\n",
    "\n",
    "win_len = 0.1  # Window length of feature\n",
    "n_mels = 128  # Number of log-mel coefficients"
   ]
  },
  {
   "cell_type": "code",
   "execution_count": 3,
   "metadata": {
    "collapsed": true
   },
   "outputs": [],
   "source": [
    "# Select the root of the processed 1 second audio chunks, where votes have been aggregated already\n",
    "# This path is relative, and should by default point to the correct location\n",
    "\n",
    "wav_root = '../data/audio_1sec/'  "
   ]
  },
  {
   "cell_type": "code",
   "execution_count": 4,
   "metadata": {
    "collapsed": true
   },
   "outputs": [],
   "source": [
    "# Load the label information contained in the resolved 1 second chunks, with votes {'yes', 'no', 'not_sure'}\n",
    "\n",
    "df = pd.read_csv('../labels/audio_1sec.csv',  header=None, names=[\"path\", \"yes\", \"no\", \"not_sure\",\"subject_set\"])\n",
    "df['path'] = df['path'].astype(str) + '.wav'\n",
    "\n",
    "\n",
    "# Create the y vector by treating 'not_sure' as 0.5, 'yes' as 1.0, 'no' as 0.0 and average\n",
    "df['res'] = (df['yes'].astype(int)*1 + df['not_sure'].astype(int)*0.5) / (df['yes'] + df['no'] + df['not_sure']) >= 0.5\n",
    "total_audio_n = len(df.index.values.tolist())\n",
    "\n",
    "y = np.zeros((total_audio_n, 2))\n",
    "\n",
    "y[:,1] = np.array(np.array(df['res']).astype(int)).astype(int)\n",
    "y[:,0] = 1-y[:,1].astype(int)"
   ]
  },
  {
   "cell_type": "code",
   "execution_count": 5,
   "metadata": {
    "collapsed": true,
    "scrolled": true
   },
   "outputs": [],
   "source": [
    "# Initialise dimensions for feature transformation\n",
    "\n",
    "nfft = int(win_len * 8000)\n",
    "wav_path = wav_root + df[\"path\"]\n",
    "\n",
    "# Initialise empty X matrix\n",
    "wav, fs = librosa.load(wav_path.iloc[0],sr=None)  # Load one spectrogram file to calculate dimensions of entire set\n",
    "\n",
    "if feature_type == 'log-mel':    \n",
    "    spec = librosa.feature.melspectrogram(y=wav, sr=fs, n_mels=n_mels, n_fft=nfft*4, hop_length=nfft)\n",
    "             \n",
    "elif feature_type == 'mfcc':\n",
    "    spec = librosa.feature.mfcc(y=wav, sr=fs, n_mfcc=13, n_fft=nfft*4, hop_length=nfft)\n",
    "    \n",
    "l_spec = np.shape(spec)[1]  # Length of the spectral representation for each 2 second chunk\n",
    "h_spec = np.shape(spec)[0]  # This is also n_mels\n",
    "spec_matrix = np.zeros([len(y), h_spec, l_spec])  "
   ]
  },
  {
   "cell_type": "code",
   "execution_count": 6,
   "metadata": {},
   "outputs": [
    {
     "name": "stdout",
     "output_type": "stream",
     "text": [
      "Iteration 0 0 2054\n",
      "Iteration 1000 14 1181\n",
      "Iteration 2000 28 1118\n",
      "Iteration 3000 40 1061\n",
      "Iteration 4000 53 1059\n",
      "Iteration 5000 64 1030\n",
      "Iteration 6000 76 1021\n",
      "Iteration 7000 89 1017\n",
      "Iteration 8000 102 1025\n",
      "Iteration 9000 115 1024\n",
      "Iteration 10000 127 1019\n",
      "Iteration 11000 141 1022\n",
      "Iteration 12000 152 1014\n",
      "Iteration 13000 165 1011\n",
      "Iteration 14000 176 1006\n",
      "Iteration 15000 189 1006\n",
      "Iteration 16000 200 998\n",
      "Iteration 17000 211 990\n",
      "Iteration 18000 221 982\n",
      "Iteration 19000 234 981\n",
      "Iteration 20000 246 980\n",
      "Iteration 21000 258 979\n",
      "Iteration 22000 270 979\n",
      "Iteration 23000 283 980\n",
      "Iteration 24000 295 980\n",
      "Iteration 25000 309 986\n",
      "Iteration 26000 321 983\n",
      "Iteration 27000 333 984\n",
      "Iteration 28000 342 974\n",
      "Iteration 29000 349 960\n",
      "Iteration 30000 359 953\n",
      "Iteration 31000 375 964\n",
      "Iteration 32000 388 967\n",
      "Iteration 33000 401 969\n",
      "Iteration 34000 412 966\n",
      "Iteration 35000 423 963\n",
      "Iteration 36000 431 955\n",
      "Iteration 37000 440 948\n",
      "Iteration 38000 450 943\n",
      "Iteration 39000 459 938\n",
      "Iteration 40000 469 934\n",
      "Iteration 41000 478 930\n",
      "Iteration 42000 488 926\n",
      "Iteration 43000 497 922\n",
      "Iteration 44000 507 919\n",
      "Iteration 45000 517 915\n",
      "Iteration 46000 527 912\n",
      "Iteration 47000 537 910\n",
      "Iteration 48000 547 908\n",
      "Iteration 49000 557 906\n",
      "Iteration 50000 568 904\n",
      "Iteration 51000 578 902\n",
      "Iteration 52000 588 901\n",
      "Iteration 53000 599 900\n",
      "Iteration 54000 608 898\n",
      "Iteration 55000 619 897\n",
      "Iteration 56000 629 895\n",
      "Iteration 57000 640 894\n",
      "Iteration 58000 650 893\n",
      "Iteration 59000 661 893\n",
      "Iteration 60000 671 892\n",
      "Iteration 61000 681 890\n",
      "Iteration 62000 693 890\n",
      "Iteration 63000 703 889\n",
      "Iteration 64000 714 889\n",
      "Iteration 65000 725 888\n",
      "Iteration 66000 736 888\n",
      "Iteration 67000 747 888\n",
      "Iteration 68000 756 886\n",
      "Iteration 69000 763 881\n",
      "Iteration 70000 770 876\n",
      "Iteration 71000 777 872\n",
      "Iteration 72000 784 867\n",
      "Iteration 73000 790 863\n",
      "Iteration 74000 797 858\n",
      "Iteration 75000 805 855\n",
      "Iteration 76000 812 851\n",
      "Iteration 77000 820 848\n",
      "Iteration 78000 827 844\n",
      "Iteration 79000 834 841\n"
     ]
    }
   ],
   "source": [
    "# Perform feature transformation and store result in pre-allocated spec_matrix\n",
    "\n",
    "start_time = time.time()\n",
    "for i in range(0, total_audio_n):\n",
    "#     if count[i] == 1:\n",
    "        \n",
    "        # Create X matrix\n",
    "    audio_file, fs = librosa.load(wav_path.loc[i],sr=None)\n",
    "    if feature_type == 'log-mel':\n",
    "        spec_matrix[i] = librosa.feature.melspectrogram(y=audio_file,\n",
    "                                                        sr=fs, n_mels=n_mels, n_fft=nfft*4, hop_length=nfft)\n",
    "\n",
    "    elif feature_type == 'mfcc':\n",
    "        spec_matrix[i] = librosa.feature.mfcc(y=audio_file,\n",
    "                                                        sr=fs, n_mfcc=13, n_fft=nfft*4, hop_length=nfft)            \n",
    "        \n",
    "    if i%1000 == 0:\n",
    "        time_used = time.time()-start_time\n",
    "        time_total = time_used * total_audio_n / (i+1)\n",
    "        \n",
    "        print('Iteration', str(i), \"%i\"%(time_used), \"%i\"%(time_total))\n",
    "\n"
   ]
  },
  {
   "cell_type": "code",
   "execution_count": 8,
   "metadata": {
    "collapsed": true
   },
   "outputs": [],
   "source": [
    "# Save files with file_name if not in path\n",
    "\n",
    "file_names = ['data_log-melnot_sure_single_into_0_5.h5', 'label_log-melnot_sure_single_into_0_5.h5']\n",
    "\n",
    "for file_name in file_names:\n",
    "    if not os.path.isfile('../proc_data/' + file_name):\n",
    "        hf = h5py.File('../proc_data/data_' + feature_type + 'not_sure_single_into_0_5.h5', 'w')\n",
    "        hf.create_dataset('../proc_data/data_' + feature_type + '_majority_labels_not_sure_single_into_0_5',\n",
    "                          data=spec_matrix)\n",
    "        hf.close()\n",
    "        \n",
    "        hf = h5py.File('../proc_data/label_' + feature_type + 'not_sure_single_into_0_5.h5', 'w')\n",
    "        hf.create_dataset('../proc_data/label_' + feature_type + '_majority_labels_not_sure_single_into_0_5', data=y)\n",
    "        hf.close()"
   ]
  },
  {
   "cell_type": "markdown",
   "metadata": {},
   "source": [
    "# Section 1: Load and classify\n",
    "\n",
    "If the feature transform has already been performed and the data is saved in `proc_data`, load the data in the cell below and perform classification as outlined by the following cells."
   ]
  },
  {
   "cell_type": "code",
   "execution_count": 9,
   "metadata": {},
   "outputs": [],
   "source": [
    "# Load files\n",
    "feature_type = 'log-mel'\n",
    "save_name = 'not_sure_single_into_0_5'\n",
    "\n",
    "hf = h5py.File('../proc_data/data_' + feature_type + save_name + '.h5', 'r')\n",
    "spec_matrix_read = np.array(hf.get('../proc_data/data_' + feature_type + '_majority_labels_' + save_name))\n",
    "hf.close()\n",
    "\n",
    "hf = h5py.File('../proc_data/label_' + feature_type + save_name + '.h5', 'r')\n",
    "y = np.array(hf.get('../proc_data/label_' + feature_type + '_majority_labels_' + save_name))\n",
    "hf.close()\n"
   ]
  },
  {
   "cell_type": "markdown",
   "metadata": {},
   "source": [
    "# Create dataset \n"
   ]
  },
  {
   "cell_type": "code",
   "execution_count": 10,
   "metadata": {},
   "outputs": [],
   "source": [
    "# Convert to dB\n",
    "\n",
    "spec_matrix_db = np.zeros_like(spec_matrix_read)\n",
    "\n",
    "for i, spec in enumerate(spec_matrix_read):\n",
    "    spec_matrix_db[i] = librosa.power_to_db(spec,ref=np.max)"
   ]
  },
  {
   "cell_type": "markdown",
   "metadata": {},
   "source": [
    "## Train Convolutional Neural Network\n",
    "\n",
    "First, the data is split tenfold using `sklearn`'s `train_test_split` with the random states given in the `random_state` vector.\n",
    "\n",
    "The neural network cross-entropy weights are set in the dictionary `class_weight`, with the key `0` referring to the noise class, and `1` referring to the mosquito class"
   ]
  },
  {
   "cell_type": "code",
   "execution_count": 14,
   "metadata": {
    "scrolled": false
   },
   "outputs": [
    {
     "name": "stdout",
     "output_type": "stream",
     "text": [
      "1\n",
      "1\n",
      "2\n"
     ]
    },
    {
     "name": "stderr",
     "output_type": "stream",
     "text": [
      "2023-04-24 12:27:23.974217: W tensorflow/tsl/framework/cpu_allocator_impl.cc:83] Allocation of 300596736 exceeds 10% of free system memory.\n"
     ]
    },
    {
     "name": "stdout",
     "output_type": "stream",
     "text": [
      "Epoch 1/3\n"
     ]
    },
    {
     "ename": "ValueError",
     "evalue": "in user code:\n\n    File \"/home/pluto/.local/lib/python3.10/site-packages/keras/engine/training.py\", line 1284, in train_function  *\n        return step_function(self, iterator)\n    File \"/home/pluto/.local/lib/python3.10/site-packages/keras/engine/training.py\", line 1268, in step_function  **\n        outputs = model.distribute_strategy.run(run_step, args=(data,))\n    File \"/home/pluto/.local/lib/python3.10/site-packages/keras/engine/training.py\", line 1249, in run_step  **\n        outputs = model.train_step(data)\n    File \"/home/pluto/.local/lib/python3.10/site-packages/keras/engine/training.py\", line 1050, in train_step\n        y_pred = self(x, training=True)\n    File \"/home/pluto/.local/lib/python3.10/site-packages/keras/utils/traceback_utils.py\", line 70, in error_handler\n        raise e.with_traceback(filtered_tb) from None\n    File \"/home/pluto/.local/lib/python3.10/site-packages/keras/engine/input_spec.py\", line 298, in assert_input_compatibility\n        raise ValueError(\n\n    ValueError: Input 0 of layer \"sequential_4\" is incompatible with the layer: expected shape=(None, 128, 32, 1), found shape=(None, 1, 128, 11)\n",
     "output_type": "error",
     "traceback": [
      "\u001b[0;31m---------------------------------------------------------------------------\u001b[0m",
      "\u001b[0;31mValueError\u001b[0m                                Traceback (most recent call last)",
      "Cell \u001b[0;32mIn[14], line 48\u001b[0m\n\u001b[1;32m     42\u001b[0m model\u001b[38;5;241m.\u001b[39madd(Dense(\u001b[38;5;241m1\u001b[39m, activation\u001b[38;5;241m=\u001b[39m\u001b[38;5;124m'\u001b[39m\u001b[38;5;124msigmoid\u001b[39m\u001b[38;5;124m'\u001b[39m))\n\u001b[1;32m     44\u001b[0m model\u001b[38;5;241m.\u001b[39mcompile(loss\u001b[38;5;241m=\u001b[39m\u001b[38;5;124m'\u001b[39m\u001b[38;5;124mbinary_crossentropy\u001b[39m\u001b[38;5;124m'\u001b[39m,\n\u001b[1;32m     45\u001b[0m           optimizer\u001b[38;5;241m=\u001b[39m\u001b[38;5;124m'\u001b[39m\u001b[38;5;124madam\u001b[39m\u001b[38;5;124m'\u001b[39m,\n\u001b[1;32m     46\u001b[0m           metrics\u001b[38;5;241m=\u001b[39m[\u001b[38;5;124m'\u001b[39m\u001b[38;5;124maccuracy\u001b[39m\u001b[38;5;124m'\u001b[39m])\n\u001b[0;32m---> 48\u001b[0m \u001b[43mmodel\u001b[49m\u001b[38;5;241;43m.\u001b[39;49m\u001b[43mfit\u001b[49m\u001b[43m(\u001b[49m\u001b[43mx\u001b[49m\u001b[38;5;241;43m=\u001b[39;49m\u001b[43mX_train_tf\u001b[49m\u001b[43m,\u001b[49m\u001b[43m \u001b[49m\u001b[43my\u001b[49m\u001b[38;5;241;43m=\u001b[39;49m\u001b[43my_train\u001b[49m\u001b[43m,\u001b[49m\u001b[43m \u001b[49m\u001b[43mbatch_size\u001b[49m\u001b[38;5;241;43m=\u001b[39;49m\u001b[38;5;28;43;01mNone\u001b[39;49;00m\u001b[43m,\u001b[49m\u001b[43m \u001b[49m\u001b[43mepochs\u001b[49m\u001b[38;5;241;43m=\u001b[39;49m\u001b[38;5;241;43m3\u001b[39;49m\u001b[43m,\u001b[49m\u001b[43m \u001b[49m\u001b[43mverbose\u001b[49m\u001b[38;5;241;43m=\u001b[39;49m\u001b[38;5;241;43m1\u001b[39;49m\u001b[43m,\u001b[49m\u001b[43m \u001b[49m\u001b[43mcallbacks\u001b[49m\u001b[38;5;241;43m=\u001b[39;49m\u001b[38;5;28;43;01mNone\u001b[39;49;00m\u001b[43m,\u001b[49m\u001b[43m \u001b[49m\u001b[43mvalidation_split\u001b[49m\u001b[38;5;241;43m=\u001b[39;49m\u001b[38;5;241;43m0.0\u001b[39;49m\u001b[43m,\u001b[49m\n\u001b[1;32m     49\u001b[0m \u001b[43m         \u001b[49m\u001b[43mvalidation_data\u001b[49m\u001b[38;5;241;43m=\u001b[39;49m\u001b[38;5;28;43;01mNone\u001b[39;49;00m\u001b[43m,\u001b[49m\n\u001b[1;32m     50\u001b[0m \u001b[43m         \u001b[49m\u001b[43mshuffle\u001b[49m\u001b[38;5;241;43m=\u001b[39;49m\u001b[38;5;28;43;01mTrue\u001b[39;49;00m\u001b[43m,\u001b[49m\u001b[43m \u001b[49m\u001b[43mclass_weight\u001b[49m\u001b[38;5;241;43m=\u001b[39;49m\u001b[43mclass_weight\u001b[49m\u001b[43m,\u001b[49m\u001b[43m \u001b[49m\u001b[43msample_weight\u001b[49m\u001b[38;5;241;43m=\u001b[39;49m\u001b[38;5;28;43;01mNone\u001b[39;49;00m\u001b[43m,\u001b[49m\u001b[43m \u001b[49m\u001b[43minitial_epoch\u001b[49m\u001b[38;5;241;43m=\u001b[39;49m\u001b[38;5;241;43m0\u001b[39;49m\u001b[43m,\u001b[49m\n\u001b[1;32m     51\u001b[0m \u001b[43m         \u001b[49m\u001b[43msteps_per_epoch\u001b[49m\u001b[38;5;241;43m=\u001b[39;49m\u001b[38;5;28;43;01mNone\u001b[39;49;00m\u001b[43m,\u001b[49m\u001b[43m \u001b[49m\u001b[43mvalidation_steps\u001b[49m\u001b[38;5;241;43m=\u001b[39;49m\u001b[38;5;28;43;01mNone\u001b[39;49;00m\u001b[43m)\u001b[49m\n\u001b[1;32m     54\u001b[0m loss, acc \u001b[38;5;241m=\u001b[39m model\u001b[38;5;241m.\u001b[39mevaluate(x\u001b[38;5;241m=\u001b[39mX_test_tf, y\u001b[38;5;241m=\u001b[39my_test, batch_size\u001b[38;5;241m=\u001b[39m\u001b[38;5;28;01mNone\u001b[39;00m, verbose\u001b[38;5;241m=\u001b[39m\u001b[38;5;241m0\u001b[39m, sample_weight\u001b[38;5;241m=\u001b[39m\u001b[38;5;28;01mNone\u001b[39;00m, steps\u001b[38;5;241m=\u001b[39m\u001b[38;5;28;01mNone\u001b[39;00m)\n\u001b[1;32m     55\u001b[0m pred \u001b[38;5;241m=\u001b[39m model\u001b[38;5;241m.\u001b[39mpredict(X_test_tf)\n",
      "File \u001b[0;32m~/.local/lib/python3.10/site-packages/keras/utils/traceback_utils.py:70\u001b[0m, in \u001b[0;36mfilter_traceback.<locals>.error_handler\u001b[0;34m(*args, **kwargs)\u001b[0m\n\u001b[1;32m     <a href='file:///home/pluto/.local/lib/python3.10/site-packages/keras/utils/traceback_utils.py?line=66'>67</a>\u001b[0m     filtered_tb \u001b[39m=\u001b[39m _process_traceback_frames(e\u001b[39m.\u001b[39m__traceback__)\n\u001b[1;32m     <a href='file:///home/pluto/.local/lib/python3.10/site-packages/keras/utils/traceback_utils.py?line=67'>68</a>\u001b[0m     \u001b[39m# To get the full stack trace, call:\u001b[39;00m\n\u001b[1;32m     <a href='file:///home/pluto/.local/lib/python3.10/site-packages/keras/utils/traceback_utils.py?line=68'>69</a>\u001b[0m     \u001b[39m# `tf.debugging.disable_traceback_filtering()`\u001b[39;00m\n\u001b[0;32m---> <a href='file:///home/pluto/.local/lib/python3.10/site-packages/keras/utils/traceback_utils.py?line=69'>70</a>\u001b[0m     \u001b[39mraise\u001b[39;00m e\u001b[39m.\u001b[39mwith_traceback(filtered_tb) \u001b[39mfrom\u001b[39;00m \u001b[39mNone\u001b[39;00m\n\u001b[1;32m     <a href='file:///home/pluto/.local/lib/python3.10/site-packages/keras/utils/traceback_utils.py?line=70'>71</a>\u001b[0m \u001b[39mfinally\u001b[39;00m:\n\u001b[1;32m     <a href='file:///home/pluto/.local/lib/python3.10/site-packages/keras/utils/traceback_utils.py?line=71'>72</a>\u001b[0m     \u001b[39mdel\u001b[39;00m filtered_tb\n",
      "File \u001b[0;32m/tmp/__autograph_generated_filea1bnssuo.py:15\u001b[0m, in \u001b[0;36mouter_factory.<locals>.inner_factory.<locals>.tf__train_function\u001b[0;34m(iterator)\u001b[0m\n\u001b[1;32m     <a href='file:///tmp/__autograph_generated_filea1bnssuo.py?line=12'>13</a>\u001b[0m \u001b[39mtry\u001b[39;00m:\n\u001b[1;32m     <a href='file:///tmp/__autograph_generated_filea1bnssuo.py?line=13'>14</a>\u001b[0m     do_return \u001b[39m=\u001b[39m \u001b[39mTrue\u001b[39;00m\n\u001b[0;32m---> <a href='file:///tmp/__autograph_generated_filea1bnssuo.py?line=14'>15</a>\u001b[0m     retval_ \u001b[39m=\u001b[39m ag__\u001b[39m.\u001b[39mconverted_call(ag__\u001b[39m.\u001b[39mld(step_function), (ag__\u001b[39m.\u001b[39mld(\u001b[39mself\u001b[39m), ag__\u001b[39m.\u001b[39mld(iterator)), \u001b[39mNone\u001b[39;00m, fscope)\n\u001b[1;32m     <a href='file:///tmp/__autograph_generated_filea1bnssuo.py?line=15'>16</a>\u001b[0m \u001b[39mexcept\u001b[39;00m:\n\u001b[1;32m     <a href='file:///tmp/__autograph_generated_filea1bnssuo.py?line=16'>17</a>\u001b[0m     do_return \u001b[39m=\u001b[39m \u001b[39mFalse\u001b[39;00m\n",
      "\u001b[0;31mValueError\u001b[0m: in user code:\n\n    File \"/home/pluto/.local/lib/python3.10/site-packages/keras/engine/training.py\", line 1284, in train_function  *\n        return step_function(self, iterator)\n    File \"/home/pluto/.local/lib/python3.10/site-packages/keras/engine/training.py\", line 1268, in step_function  **\n        outputs = model.distribute_strategy.run(run_step, args=(data,))\n    File \"/home/pluto/.local/lib/python3.10/site-packages/keras/engine/training.py\", line 1249, in run_step  **\n        outputs = model.train_step(data)\n    File \"/home/pluto/.local/lib/python3.10/site-packages/keras/engine/training.py\", line 1050, in train_step\n        y_pred = self(x, training=True)\n    File \"/home/pluto/.local/lib/python3.10/site-packages/keras/utils/traceback_utils.py\", line 70, in error_handler\n        raise e.with_traceback(filtered_tb) from None\n    File \"/home/pluto/.local/lib/python3.10/site-packages/keras/engine/input_spec.py\", line 298, in assert_input_compatibility\n        raise ValueError(\n\n    ValueError: Input 0 of layer \"sequential_4\" is incompatible with the layer: expected shape=(None, 128, 32, 1), found shape=(None, 1, 128, 11)\n"
     ]
    }
   ],
   "source": [
    "pred_list = []\n",
    "y_test_list = []\n",
    "\n",
    "for random_state in [10,20,30,40,50,60,70,80,90,100]:\n",
    "\n",
    "     X_train, X_test, y_train, y_test = train_test_split(spec_matrix_db, np.array(y), test_size=0.33,\n",
    "                                                            random_state=random_state)\n",
    "     # Normalise by statistics of training data\n",
    "     print(1)\n",
    "     X_train_norm = (X_train - np.mean(X_train))/np.std(X_train)\n",
    "     X_test_norm = (X_test - np.mean(X_train))/np.std(X_train)\n",
    "     X_train_tf = X_train_norm.reshape(X_train_norm.shape[0], 1, X_train_norm.shape[1], X_train_norm.shape[2])\n",
    "     X_test_tf = X_test_norm.reshape(X_test_norm.shape[0], 1, X_test_norm.shape[1], X_test_norm.shape[2])\n",
    "\n",
    "     ################################ CONVOLUTIONAL NEURAL NETWORK ################################\n",
    "     ## NN parameters\n",
    "     class_weight = {0: 1.,\n",
    "                         1: 10.,\n",
    "                         }\n",
    "     input_shape = (1, X_train_tf.shape[2], X_train_tf.shape[-1])\n",
    "     print(1)\n",
    "     model = Sequential()\n",
    "     print(2)\n",
    "     n_dense = 128\n",
    "     nb_classes = 2\n",
    "     # number of convolutional filters\n",
    "     nb_conv_filters = 32\n",
    "     nb_conv_filters_2 = 64\n",
    "     input_shape = (128, 32, 1)\n",
    "\n",
    "     model = Sequential()\n",
    "     model.add(Conv2D(nb_conv_filters, kernel_size=(3, 3),\n",
    "                    activation='relu', padding='same', strides=1,\n",
    "                    input_shape=input_shape))\n",
    "     model.add(MaxPooling2D(pool_size=(2, 2)))\n",
    "     model.add(Conv2D(nb_conv_filters_2, kernel_size=(3, 3),\n",
    "                    activation='relu', padding='same'))\n",
    "     model.add(MaxPooling2D(pool_size=(2, 2)))\n",
    "     model.add(Flatten())\n",
    "     model.add(Dense(128, activation='relu'))\n",
    "     model.add(Dropout(0.5))\n",
    "     model.add(Dense(1, activation='sigmoid'))\n",
    "\n",
    "     model.compile(loss='binary_crossentropy',\n",
    "               optimizer='adam',\n",
    "               metrics=['accuracy'])\n",
    "\n",
    "     model.fit(x=X_train_tf, y=y_train, batch_size=None, epochs=3, verbose=1, callbacks=None, validation_split=0.0,\n",
    "              validation_data=None,\n",
    "              shuffle=True, class_weight=class_weight, sample_weight=None, initial_epoch=0,\n",
    "              steps_per_epoch=None, validation_steps=None)\n",
    "\n",
    "\n",
    "     loss, acc = model.evaluate(x=X_test_tf, y=y_test, batch_size=None, verbose=0, sample_weight=None, steps=None)\n",
    "     pred = model.predict(X_test_tf)\n",
    "     plt.hist(pred[:,1]) # Optional: visualise histogram of labels\n",
    "     #     plt.show()\n",
    "     print(random_state, loss, acc)\n",
    "     \n",
    "     pred_list.append(pred)  # Collect y_test to report classification performance\n",
    "     y_test_list.append(y_test)  # Collect y_test to report classification performance\n",
    "\n",
    "    \n",
    "    "
   ]
  },
  {
   "cell_type": "markdown",
   "metadata": {},
   "source": [
    "## Create plotting functions"
   ]
  },
  {
   "cell_type": "markdown",
   "metadata": {},
   "source": [
    "We now create a function to display the confusion matrices. This is a slight modification of the `plot_confusion_matrix` function available on [sklearn](https://scikit-learn.org/stable/auto_examples/model_selection/plot_confusion_matrix.html) to include a mean and variance, for the purpose of evaluation over a tenfold split."
   ]
  },
  {
   "cell_type": "code",
   "execution_count": 6,
   "metadata": {},
   "outputs": [],
   "source": [
    "def plot_confusion_matrix(cm, classes, std,\n",
    "                          normalize=False,\n",
    "                                                    cmap=plt.cm.Blues):\n",
    "    \"\"\"\n",
    "    This function prints and plots the confusion matrix.\n",
    "    Normalization can be applied by setting `normalize=True`.\n",
    "    \"\"\"\n",
    "\n",
    "\n",
    "    std = std * 100\n",
    "    if normalize:\n",
    "        cm = cm.astype('float') / cm.sum(axis=1)[:, np.newaxis] *100\n",
    "        print(\"Normalized confusion matrix\")\n",
    "    else:\n",
    "        print('Confusion matrix, without normalization')\n",
    "\n",
    "    print(cm)\n",
    "\n",
    "    fig, ax = plt.subplots()\n",
    "    im = ax.imshow(cm, interpolation='nearest', cmap=cmap)\n",
    "#     ax.figure.colorbar(im, ax=ax)\n",
    "    # We want to show all ticks...\n",
    "    ax.set(xticks=np.arange(cm.shape[1]),\n",
    "           yticks=np.arange(cm.shape[0]),\n",
    "           # ... and label them with the respective list entries\n",
    "           xticklabels=classes, yticklabels=classes,\n",
    "\n",
    "           ylabel='True label',\n",
    "           xlabel='Predicted label')\n",
    "\n",
    "    # Rotate the tick labels and set their alignment.\n",
    "    plt.setp(ax.get_xticklabels(), rotation=45, ha=\"right\",\n",
    "             rotation_mode=\"anchor\")\n",
    "\n",
    "    # Loop over data dimensions and create text annotations.\n",
    "    fmt = '.1f' if normalize else 'd'\n",
    "    thresh = cm.max() / 2.\n",
    "    for i in range(cm.shape[0]):\n",
    "        for j in range(cm.shape[1]):\n",
    "            ax.text(j, i, format(cm[i, j], fmt) + ' ± ' + format(std[i, j], fmt),\n",
    "                    ha=\"center\", va=\"center\",\n",
    "                    color=\"white\" if cm[i, j] > thresh else \"black\")\n",
    "    fig.tight_layout()\n",
    "    return ax\n",
    "\n",
    "\n",
    "cm_list = []\n",
    "for i in np.arange(len(pred_list)):\n",
    "        cm_list.append(confusion_matrix(np.argmax(y_test_list[i],-1), np.argmax(pred_list[i],-1)))\n",
    "cm_mean = np.mean(cm_list, axis = 0)\n",
    "total = np.sum(cm_mean)\n",
    "cm_mean = cm_mean/total\n",
    "cm_std = np.std(cm_list, axis = 0)/total\n"
   ]
  },
  {
   "cell_type": "markdown",
   "metadata": {},
   "source": [
    "## Format and display plot"
   ]
  },
  {
   "cell_type": "code",
   "execution_count": 7,
   "metadata": {},
   "outputs": [
    {
     "name": "stderr",
     "output_type": "stream",
     "text": [
      "findfont: Font family ['normal'] not found. Falling back to DejaVu Sans.\n"
     ]
    },
    {
     "name": "stdout",
     "output_type": "stream",
     "text": [
      "Normalized confusion matrix\n",
      "[[85.36 14.64]\n",
      " [29.04 70.96]]\n"
     ]
    },
    {
     "data": {
      "image/png": "[encoded data removed]",
      "text/plain": [
       "<Figure size 432x288 with 1 Axes>"
      ]
     },
     "metadata": {
      "needs_background": "light"
     },
     "output_type": "display_data"
    }
   ],
   "source": [
    "np.set_printoptions(precision=2)\n",
    "\n",
    "font = {'family' : 'normal',\n",
    "        'weight' : 'normal',\n",
    "        'size'   : 14}\n",
    "\n",
    "matplotlib.rc('font', **font)\n",
    "\n",
    "\n",
    "class_names= np.array(['Noise', 'Mozz'])\n",
    "\n",
    "# Plot normalized confusion matrix\n",
    "plot_confusion_matrix(cm_mean, std=cm_std, classes=class_names, normalize=True)\n",
    "plt.tight_layout()\n",
    "plt.show()"
   ]
  },
  {
   "cell_type": "code",
   "execution_count": null,
   "metadata": {},
   "outputs": [],
   "source": []
  }
 ],
 "metadata": {
  "interpreter": {
   "hash": "916dbcbb3f70747c44a77c7bcd40155683ae19c65e1c03b4aa3499c5328201f1"
  },
  "kernelspec": {
   "display_name": "Python 3.10.6 64-bit",
   "language": "python",
   "name": "python3"
  },
  "language_info": {
   "codemirror_mode": {
    "name": "ipython",
    "version": 3
   },
   "file_extension": ".py",
   "mimetype": "text/x-python",
   "name": "python",
   "nbconvert_exporter": "python",
   "pygments_lexer": "ipython3",
   "version": "3.10.6"
  }
 },
 "nbformat": 4,
 "nbformat_minor": 2
}
